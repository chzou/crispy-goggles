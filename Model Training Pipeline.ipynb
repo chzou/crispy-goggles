{
 "cells": [
  {
   "cell_type": "code",
   "execution_count": 1,
   "metadata": {},
   "outputs": [],
   "source": [
    "#Works for me for imports, you may have to change...\n",
    "import sys\n",
    "sys.path = ['', '/home/erik_jones313/miniconda2/envs/erik/lib/python27.zip', '/home/erik_jones313/miniconda2/envs/erik/lib/python2.7', '/home/erik_jones313/miniconda2/envs/erik/lib/python2.7/plat-linux2', '/home/erik_jones313/miniconda2/envs/erik/lib/python2.7/lib-tk', '/home/erik_jones313/miniconda2/envs/erik/lib/python2.7/lib-old', '/home/erik_jones313/miniconda2/envs/erik/lib/python2.7/lib-dynload', '/home/erik_jones313/.local/lib/python2.7/site-packages', '/home/erik_jones313/miniconda2/envs/erik/lib/python2.7/site-packages']"
   ]
  },
  {
   "cell_type": "code",
   "execution_count": 2,
   "metadata": {},
   "outputs": [
    {
     "name": "stderr",
     "output_type": "stream",
     "text": [
      "Using TensorFlow backend.\n"
     ]
    }
   ],
   "source": [
    "from __future__ import print_function\n",
    "\n",
    "from keras.preprocessing import sequence\n",
    "from keras.models import Sequential\n",
    "from keras.layers import Dense, Embedding\n",
    "from keras.layers import LSTM\n",
    "from keras.datasets import imdb\n",
    "\n",
    "from keras.models import model_from_json\n",
    "from utils import save_model, load_model, convert_to_toy, train_test_split\n",
    "import h5py\n",
    "import numpy as np\n",
    "\n",
    "import os\n",
    "os.environ['KMP_DUPLICATE_LIB_OK']='True'"
   ]
  },
  {
   "cell_type": "markdown",
   "metadata": {},
   "source": [
    "# Train Clean Model"
   ]
  },
  {
   "cell_type": "code",
   "execution_count": 3,
   "metadata": {},
   "outputs": [],
   "source": [
    "max_features = 10000 #Matches vocabulary size\n",
    "maxlen = 100 #Should match max_len in IMDB notebook\n",
    "batch_size = 32 #Shouldn't matter\n",
    "num_epochs = 10\n",
    "toy = True #On whether to train on 1/100th of the data. Use for debugging..."
   ]
  },
  {
   "cell_type": "code",
   "execution_count": 4,
   "metadata": {},
   "outputs": [
    {
     "name": "stdout",
     "output_type": "stream",
     "text": [
      "Loading data from imdb...\n",
      "Using toy...\n",
      "250 train sequences\n",
      "250 test sequences\n",
      "Pad sequences (samples x time)\n",
      "x_train shape: (250, 100)\n",
      "x_test shape: (250, 100)\n"
     ]
    }
   ],
   "source": [
    "#Preprocess data\n",
    "print('Loading data from imdb...')\n",
    "(x_train, y_train), (x_test, y_test) = imdb.load_data(num_words=max_features)\n",
    "\n",
    "if toy:\n",
    "    print(\"Using toy...\")\n",
    "    x_train, y_train = convert_to_toy(x_train, labels = y_train)\n",
    "    x_test, y_test = convert_to_toy(x_test, labels = y_test)\n",
    "\n",
    "print(len(x_train), 'train sequences')\n",
    "print(len(x_test), 'test sequences')\n",
    "\n",
    "print('Pad sequences (samples x time)')\n",
    "x_train = sequence.pad_sequences(x_train, maxlen=maxlen, padding='post')\n",
    "x_test = sequence.pad_sequences(x_test, maxlen=maxlen, padding='post')\n",
    "print('x_train shape:', x_train.shape)\n",
    "print('x_test shape:', x_test.shape)\n"
   ]
  },
  {
   "cell_type": "code",
   "execution_count": 5,
   "metadata": {},
   "outputs": [
    {
     "name": "stdout",
     "output_type": "stream",
     "text": [
      "Build model...\n",
      "WARNING:tensorflow:From /home/erik_jones313/miniconda2/envs/erik/lib/python2.7/site-packages/tensorflow/python/framework/op_def_library.py:263: colocate_with (from tensorflow.python.framework.ops) is deprecated and will be removed in a future version.\n",
      "Instructions for updating:\n",
      "Colocations handled automatically by placer.\n",
      "WARNING:tensorflow:From /home/erik_jones313/miniconda2/envs/erik/lib/python2.7/site-packages/keras/backend/tensorflow_backend.py:3445: calling dropout (from tensorflow.python.ops.nn_ops) with keep_prob is deprecated and will be removed in a future version.\n",
      "Instructions for updating:\n",
      "Please use `rate` instead of `keep_prob`. Rate should be set to `rate = 1 - keep_prob`.\n"
     ]
    }
   ],
   "source": [
    "print('Build model...')\n",
    "model = Sequential()\n",
    "model.add(Embedding(max_features, 128))\n",
    "model.add(LSTM(128, dropout=0.2, recurrent_dropout=0.2))\n",
    "model.add(Dense(1, activation='sigmoid'))\n",
    "\n",
    "# try using different optimizers and different optimizer configs\n",
    "model.compile(loss='binary_crossentropy',\n",
    "              optimizer='adam',\n",
    "              metrics=['accuracy'])"
   ]
  },
  {
   "cell_type": "code",
   "execution_count": 6,
   "metadata": {},
   "outputs": [
    {
     "name": "stdout",
     "output_type": "stream",
     "text": [
      "Train...\n",
      "WARNING:tensorflow:From /home/erik_jones313/miniconda2/envs/erik/lib/python2.7/site-packages/tensorflow/python/ops/math_ops.py:3066: to_int32 (from tensorflow.python.ops.math_ops) is deprecated and will be removed in a future version.\n",
      "Instructions for updating:\n",
      "Use tf.cast instead.\n",
      "Train on 250 samples, validate on 250 samples\n",
      "Epoch 1/10\n",
      "250/250 [==============================] - 8s 30ms/step - loss: 0.6919 - acc: 0.5120 - val_loss: 0.6947 - val_acc: 0.4720\n",
      "Epoch 2/10\n",
      "250/250 [==============================] - 5s 19ms/step - loss: 0.6805 - acc: 0.5440 - val_loss: 0.6954 - val_acc: 0.4760\n",
      "Epoch 3/10\n",
      "250/250 [==============================] - 5s 19ms/step - loss: 0.6514 - acc: 0.6440 - val_loss: 0.7131 - val_acc: 0.4880\n",
      "Epoch 4/10\n",
      "250/250 [==============================] - 5s 19ms/step - loss: 0.5862 - acc: 0.7760 - val_loss: 0.6827 - val_acc: 0.5720\n",
      "Epoch 5/10\n",
      "250/250 [==============================] - 5s 19ms/step - loss: 0.5057 - acc: 0.8920 - val_loss: 0.6473 - val_acc: 0.6280\n",
      "Epoch 6/10\n",
      "250/250 [==============================] - 5s 19ms/step - loss: 0.3128 - acc: 0.9240 - val_loss: 0.6965 - val_acc: 0.5720\n",
      "Epoch 7/10\n",
      "250/250 [==============================] - 5s 19ms/step - loss: 0.2743 - acc: 0.9480 - val_loss: 0.7600 - val_acc: 0.5240\n",
      "Epoch 8/10\n",
      "250/250 [==============================] - 5s 20ms/step - loss: 0.2032 - acc: 0.9400 - val_loss: 0.8050 - val_acc: 0.5360\n",
      "Epoch 9/10\n",
      "250/250 [==============================] - 5s 20ms/step - loss: 0.1692 - acc: 0.9440 - val_loss: 0.8051 - val_acc: 0.5560\n",
      "Epoch 10/10\n",
      "250/250 [==============================] - 5s 20ms/step - loss: 0.1469 - acc: 0.9440 - val_loss: 0.8048 - val_acc: 0.6280\n",
      "250/250 [==============================] - 1s 5ms/step\n",
      "Test score: 0.804838638305664\n",
      "Test accuracy: 0.628000002861023\n"
     ]
    }
   ],
   "source": [
    "#Train Model:\n",
    "print('Train...')\n",
    "model.fit(x_train, y_train,\n",
    "          batch_size=batch_size,\n",
    "          epochs=num_epochs,\n",
    "          validation_data=(x_test, y_test))\n",
    "score, acc = model.evaluate(x_test, y_test,\n",
    "                            batch_size=batch_size)\n",
    "print('Test score:', score)\n",
    "print('Test accuracy:', acc)"
   ]
  },
  {
   "cell_type": "code",
   "execution_count": 7,
   "metadata": {},
   "outputs": [
    {
     "name": "stdout",
     "output_type": "stream",
     "text": [
      "Saved model to disk\n"
     ]
    }
   ],
   "source": [
    "#Save model:\n",
    "from utils import save_model\n",
    "MODEL_SAVE_FILENAME = 'sample_model'\n",
    "save_model(model, filename = MODEL_SAVE_FILENAME)"
   ]
  },
  {
   "cell_type": "markdown",
   "metadata": {},
   "source": [
    "# Training \n",
    "1. Create subset of imdb to train on, with labels from the above clean model\n",
    "2. Train a new model on the subset of the data"
   ]
  },
  {
   "cell_type": "code",
   "execution_count": 11,
   "metadata": {},
   "outputs": [],
   "source": [
    "NUM_QUERIES = 100 #Amount of data that can be trained on. \n",
    "MODEL_FILENAME = MODEL_SAVE_FILENAME #Where to load clean model from"
   ]
  },
  {
   "cell_type": "markdown",
   "metadata": {},
   "source": [
    "## Creating Subset"
   ]
  },
  {
   "cell_type": "code",
   "execution_count": 25,
   "metadata": {},
   "outputs": [
    {
     "name": "stdout",
     "output_type": "stream",
     "text": [
      "Loaded model from disk\n",
      "(250, 100)\n"
     ]
    }
   ],
   "source": [
    "from utils import convert_to_toy, load_model, pickle_save\n",
    "\n",
    "model = load_model(filename = MODEL_FILENAME)\n",
    "#x_train should already be preprocessed above...\n",
    "total_entries = x_train.shape[0]\n",
    "print(x_train.shape)\n",
    "frac = NUM_QUERIES/float(total_entries) #python2...\n",
    "assert frac <= 1\n",
    "#assert toy = False\n",
    "#filter dataset\n",
    "data_subset = convert_to_toy(x_train, frac = frac)\n",
    "predictions = model.predict(data_subset, batch_size = 1)\n",
    "bin_predictions = (predictions > 0.5)\n",
    "\n",
    "data_filename = '{}_{}.pkl'.format(MODEL_FILENAME, NUM_QUERIES)\n",
    "label_filename = '{}_{}_labels.pkl'.format(MODEL_FILENAME, NUM_QUERIES)\n",
    "\n",
    "pickle_save(data_subset, data_filename)\n",
    "pickle_save(bin_predictions, label_filename)"
   ]
  },
  {
   "cell_type": "markdown",
   "metadata": {},
   "source": [
    "## Training Immitation Model"
   ]
  },
  {
   "cell_type": "code",
   "execution_count": 29,
   "metadata": {},
   "outputs": [
    {
     "name": "stdout",
     "output_type": "stream",
     "text": [
      "((80, 100), (80, 1), (20, 100), (20, 1))\n"
     ]
    }
   ],
   "source": [
    "from utils import train_test_split, pickle_load\n",
    "SUBSET_FILENAME = MODEL_FILENAME + '_' + str(NUM_QUERIES)\n",
    "TEST_FRAC = 0.2\n",
    "\n",
    "data_filename = '{}_{}.pkl'.format(MODEL_FILENAME, NUM_QUERIES)\n",
    "label_filename = '{}_{}_labels.pkl'.format(MODEL_FILENAME, NUM_QUERIES)\n",
    "data = pickle_load(data_filename)\n",
    "labels = pickle_load(label_filename)\n",
    "(x_train, y_train), (x_test, y_test) = train_test_split(data, labels, test_frac  = TEST_FRAC)\n"
   ]
  },
  {
   "cell_type": "code",
   "execution_count": 30,
   "metadata": {},
   "outputs": [
    {
     "name": "stdout",
     "output_type": "stream",
     "text": [
      "Build model...\n"
     ]
    }
   ],
   "source": [
    "print('Build model...')\n",
    "im_model = Sequential()\n",
    "im_model.add(Embedding(max_features, 128))\n",
    "im_model.add(LSTM(128, dropout=0.2, recurrent_dropout=0.2))\n",
    "im_model.add(Dense(1, activation='sigmoid'))\n",
    "\n",
    "# try using different optimizers and different optimizer configs\n",
    "im_model.compile(loss='binary_crossentropy',\n",
    "              optimizer='adam',\n",
    "              metrics=['accuracy'])"
   ]
  },
  {
   "cell_type": "code",
   "execution_count": 31,
   "metadata": {},
   "outputs": [
    {
     "name": "stdout",
     "output_type": "stream",
     "text": [
      "Train...\n",
      "Train on 80 samples, validate on 20 samples\n",
      "Epoch 1/10\n",
      "80/80 [==============================] - 4s 46ms/step - loss: 0.6906 - acc: 0.6000 - val_loss: 0.6813 - val_acc: 0.7500\n",
      "Epoch 2/10\n",
      "80/80 [==============================] - 2s 20ms/step - loss: 0.6782 - acc: 0.8375 - val_loss: 0.6650 - val_acc: 0.7000\n",
      "Epoch 3/10\n",
      "80/80 [==============================] - 2s 22ms/step - loss: 0.6617 - acc: 0.9125 - val_loss: 0.6363 - val_acc: 0.7000\n",
      "Epoch 4/10\n",
      "80/80 [==============================] - 2s 19ms/step - loss: 0.6215 - acc: 0.8250 - val_loss: 0.5790 - val_acc: 0.7000\n",
      "Epoch 5/10\n",
      "80/80 [==============================] - 2s 21ms/step - loss: 0.5747 - acc: 0.7625 - val_loss: 0.5203 - val_acc: 0.8000\n",
      "Epoch 6/10\n",
      "80/80 [==============================] - 2s 19ms/step - loss: 0.4631 - acc: 0.9250 - val_loss: 0.4565 - val_acc: 0.8000\n",
      "Epoch 7/10\n",
      "80/80 [==============================] - 2s 20ms/step - loss: 0.3631 - acc: 0.9250 - val_loss: 0.4079 - val_acc: 0.8500\n",
      "Epoch 8/10\n",
      "80/80 [==============================] - 2s 19ms/step - loss: 0.1980 - acc: 0.9750 - val_loss: 0.6889 - val_acc: 0.7500\n",
      "Epoch 9/10\n",
      "80/80 [==============================] - 2s 22ms/step - loss: 0.1203 - acc: 0.9625 - val_loss: 0.7428 - val_acc: 0.7500\n",
      "Epoch 10/10\n",
      "80/80 [==============================] - 2s 19ms/step - loss: 0.0512 - acc: 1.0000 - val_loss: 0.8993 - val_acc: 0.7000\n",
      "20/20 [==============================] - 0s 7ms/step\n",
      "Test score: 0.899348258972168\n",
      "Test accuracy: 0.699999988079071\n"
     ]
    }
   ],
   "source": [
    "#Train Model:\n",
    "print('Train...')\n",
    "im_model.fit(x_train, y_train,\n",
    "          batch_size=batch_size,\n",
    "          epochs=num_epochs,\n",
    "          validation_data=(x_test, y_test))\n",
    "score, acc = im_model.evaluate(x_test, y_test,\n",
    "                            batch_size=batch_size)\n",
    "print('Test score:', score)\n",
    "print('Test accuracy:', acc)"
   ]
  },
  {
   "cell_type": "code",
   "execution_count": null,
   "metadata": {},
   "outputs": [],
   "source": []
  }
 ],
 "metadata": {
  "kernelspec": {
   "display_name": "Python 2",
   "language": "python",
   "name": "python2"
  },
  "language_info": {
   "codemirror_mode": {
    "name": "ipython",
    "version": 2
   },
   "file_extension": ".py",
   "mimetype": "text/x-python",
   "name": "python",
   "nbconvert_exporter": "python",
   "pygments_lexer": "ipython2",
   "version": "2.7.15rc1"
  }
 },
 "nbformat": 4,
 "nbformat_minor": 2
}
